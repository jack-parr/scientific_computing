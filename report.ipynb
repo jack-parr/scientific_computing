{
 "cells": [
  {
   "attachments": {},
   "cell_type": "markdown",
   "metadata": {},
   "source": [
    "# heading 1\n",
    "text\n",
    "## heading 1.1\n",
    "### heading 1.1.1\n",
    "*italic*\n",
    "**bold**\n",
    "<u>underlined text</u>\n",
    "<h1><center>Centered heading</center></h1>\n",
    "<center>Centered text</center>\n",
    "\n",
    "___\n",
    "text\n",
    "___\n",
    "\n",
    "insert image template\n",
    "\n",
    "<img src=\"testimage.png\" alt=\"testim\" class=\"bg-primary mb-1\" width=\"400px\">"
   ]
  },
  {
   "cell_type": "code",
   "execution_count": 12,
   "metadata": {},
   "outputs": [],
   "source": [
    "import numpy as np"
   ]
  },
  {
   "attachments": {},
   "cell_type": "markdown",
   "metadata": {},
   "source": [
    "Plan:\n",
    "- page limit is 15, however 8-10 is preferred\n",
    "- describe functionality of each file\n",
    "- include examples\n",
    "- error plots\n",
    "- compare against known truth plots\n",
    "- explain design process\n",
    "- including why certain decisions were made\n",
    "- like standardising input and output format\n",
    "- implementing unit tests\n",
    "- input format tests within each function to handle errors informatively\n",
    "- reflective learning log"
   ]
  },
  {
   "attachments": {},
   "cell_type": "markdown",
   "metadata": {},
   "source": [
    "___\n",
    "\n",
    "<h1><center>EMAT30008 Scientific Computing Report</center></h1>\n",
    "<h3><center>Jack Parr - 1925164</center></h3>\n",
    "<h3><center>https://github.com/jack-parr/emat30008</center></h3>\n",
    "<h3><center>April 2023</center></h3>\n",
    "\n",
    "___"
   ]
  },
  {
   "attachments": {},
   "cell_type": "markdown",
   "metadata": {},
   "source": [
    "### 1 - Summary of Software\n",
    "This section outlines the capabilities of the software package, by detailing the methods incorporated into each file and providing examples of applying the functions and comparing their accuracies against known true solutions.\n",
    "\n",
    "#### 1.1 - ode_solver.py\n",
    "The goal is to produce a software capable of solving single and multi-dimensional systems of ODEs, utilising the Euler and 4th Order Runga-Kutta (RK4) methods integration methods to solve the solution at timesteps. A maximum timestep can be specified which impacts the number of steps the algorithm must take.\n",
    "The first example shows the *solve_to* function evaluating the ODE equation $\\dot{x} = x$, with initial condition $x(0) = 1, t \\in [0,1]$, and $\\Delta t_{max} = 0.05$. Solutions at $x(1)$ are found using Euler and RK4 integration. These are compared to the known solution $x(t) = e^t$ as shown in Figure X. This plot shows the solutions generated using RK4 are accurate enough to be obscured on the graph, while Euler method results in a small under-approximation.\n",
    "\n",
    "<center><img src=\"Report Figs/section1-1_eulerrk4firstorder.png\" alt=\"1\" class=\"bg-primary mb-1\" width=\"400px\"></center>\n",
    "\n",
    "The *solve_to* function is also capable of evaluating systems of ODEs. To demonstrate this, the next example solves the ODE $\\ddot{x} = x$, which is equivalent to the system $\\dot{x} = y, \\dot{y} = -x$. The same initial conditions are used, with $x(0) = [1,1], t \\in [0,10]$, and $\\Delta t_{max} = 0.05$. Solutions at $x(1)$ are found and compared to the known solutions $x(t) = cos(t) + sin(t), y(t) = cos(t) - sin(t)$, as shown in Figure X.\n",
    "\n",
    "\n",
    "#### 1.2 - numerical_shooting.py\n",
    "Text\n",
    "#### 1.3 - numerical_continuation.py\n",
    "Text\n",
    "#### 1.4 - pde_solver.py\n",
    "Text"
   ]
  }
 ],
 "metadata": {
  "kernelspec": {
   "display_name": "base",
   "language": "python",
   "name": "python3"
  },
  "language_info": {
   "codemirror_mode": {
    "name": "ipython",
    "version": 3
   },
   "file_extension": ".py",
   "mimetype": "text/x-python",
   "name": "python",
   "nbconvert_exporter": "python",
   "pygments_lexer": "ipython3",
   "version": "3.9.13"
  },
  "orig_nbformat": 4
 },
 "nbformat": 4,
 "nbformat_minor": 2
}
