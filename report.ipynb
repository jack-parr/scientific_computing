{
 "cells": [
  {
   "attachments": {},
   "cell_type": "markdown",
   "metadata": {},
   "source": [
    "# heading 1\n",
    "text\n",
    "## heading 1.1\n",
    "### heading 1.1.1\n",
    "*italic*\n",
    "**bold**\n",
    "<u>underlined text</u>\n",
    "<h1><center>Centered heading</center></h1>\n",
    "<center>Centered text</center>\n",
    "\n",
    "___\n",
    "text\n",
    "___\n",
    "\n",
    "insert image template\n",
    "\n",
    "<img src=\"testimage.png\" alt=\"testim\" class=\"bg-primary mb-1\" width=\"400px\">"
   ]
  },
  {
   "cell_type": "code",
   "execution_count": 12,
   "metadata": {},
   "outputs": [],
   "source": [
    "import numpy as np"
   ]
  },
  {
   "attachments": {},
   "cell_type": "markdown",
   "metadata": {},
   "source": [
    "Plan:\n",
    "- page limit is 15, however 8-10 is preferred\n",
    "- describe functionality of each file\n",
    "- include examples\n",
    "- error plots\n",
    "- compare against known truth plots\n",
    "- explain design process\n",
    "- including why certain decisions were made\n",
    "- like standardising input and output format\n",
    "- implementing unit tests\n",
    "- input format tests within each function to handle errors informatively\n",
    "- reflective learning log"
   ]
  },
  {
   "attachments": {},
   "cell_type": "markdown",
   "metadata": {},
   "source": [
    "___\n",
    "\n",
    "<h1><center>EMAT30008 Scientific Computing Report</center></h1>\n",
    "<h3><center>Jack Parr - 1925164</center></h3>\n",
    "<h3><center>https://github.com/jack-parr/emat30008</center></h3>\n",
    "<h3><center>April 2023</center></h3>\n",
    "\n",
    "___"
   ]
  },
  {
   "attachments": {},
   "cell_type": "markdown",
   "metadata": {},
   "source": [
    "### 1 - Summary of Software\n",
    "This section outlines the capabilities of the software package, by detailing the methods incorporated into each file and providing examples of applying the functions and comparing their accuracies against known true solutions.\n",
    "\n",
    "#### 1.1 - ode_solver.py\n",
    "The goal is to produce a software capable of solving single and multi-dimensional systems of ODEs, utilising the Euler and 4th Order Runga-Kutta (RK4) methods integration methods to solve the solution at timesteps. A maximum timestep can be specified which impacts the number of steps the algorithm must take. The first example shows the *solve_to* function evaluating the ODE equation $\\dot{x} = x$, with initial condition $x(0) = 1, t \\in [0,1]$, and $\\Delta t_{max} = 0.05$. Solutions to $x(1)$ are found using Euler and RK4 integration. These are compared to the known solution $x(t) = e^t$ as shown in Figure X. This plot shows the solutions generated using RK4 are accurate enough to be obscured on the graph, while Euler method results in a small under-approximation.\n",
    "\n",
    "<center><img src=\"Report Figs/section1-1_eulerrk4firstorder.png\" alt=\"1\" class=\"bg-primary mb-1\" width=\"400px\"></center>\n",
    "\n",
    "The *solve_to* function is also capable of evaluating systems of ODEs. To demonstrate this, the next example solves the ODE $\\ddot{x} = x$, which is equivalent to the system $\\dot{x} = y, \\dot{y} = -x$. The same initial conditions are used, with $x(0) = [1,1], t \\in [0,10]$, and $\\Delta t_{max} = 0.01$. Solutions to $x(5)$ are found and compared to the known solutions $x(t) = cos(t) + sin(t), y(t) = cos(t) - sin(t)$, as shown in Figure X. For this problem, Euler and RK4 appear to perform similarly with the reduced $\\Delta t_{max}$, both closely approximating the exact solution.\n",
    "\n",
    "<center><img src=\"Report Figs/section1-1_eulerrk4system.png\" alt=\"2\" class=\"bg-primary mb-1\" width=\"400px\"></center>\n",
    "\n",
    "In order to better understand the difference in performance between Euler and RK4, an error plot is shown in Figure X for different $\\Delta t_{max}$ values when solving example 1. This shows that RK4 consistently produces more accurate solutions than Euler with the same timestep, enabling RK4 to accurately evaluate the problem faster using larger timesteps. Points are marked on Figure X showing $\\Delta t_{max}$ values where the absolute accuracies are the same, which is $0.000115$ for Euler and $0.312572$ for RK4. Timing these shows Euler taking 127ms, and RK4 taking 1ms, demonstrating the benefit of RK4.\n",
    "\n",
    "<center><img src=\"Report Figs/sec1-1_err.png\" alt=\"3\" class=\"bg-primary mb-1\" width=\"400px\"></center>\n",
    "\n",
    "#### 1.2 - numerical_shooting.py\n",
    "This file provides the capability of finding orbits within a system. When calling the *orbit_shoot* function, it constructs and solves the shooting root-finding boundary value problem for the given system of ODEs. A phase condition can be provided in the form of a function, which is crucial for ensuring a solution is found for autonomous problems. The solving function used to solve for the roots can be specified, however this function is designed specifically for use with scipy.optimize.fsolve for reasons explained in section X.\n",
    "To demonstrate the use of *orbit_shoot*, the predator-prey equations are used, in the form:\n",
    "\n",
    "$\\dot{x} = x(1-x) - \\frac{axy}{d+x}$\n",
    "\n",
    "$\\dot{y} = by(1-\\frac{y}{x})$\n",
    "\n",
    "$where: a = 1.0, b = 0.2, d = 0.1$\n",
    "\n",
    "An initial guess of $[0.5,0.5,20]$ and phase condition $\\dot{y} = 0$ are used to identify an orbit, which is found to begin at $x = y = 0.383$ with a period of 20.72 seconds. Figure Xa illustrates the solution to the system of ODEs found using *solve_to* with those starting conditions. Figure Xb shows the same solution with different axes, with the closed loop indicating an true orbit has in fact been found.\n",
    "\n",
    "<center><img src=\"Report Figs/sec1-2_orbit.png\" alt=\"4\" class=\"bg-primary mb-1\" width=\"400px\"></center>\n",
    "\n",
    "#### 1.3 - numerical_continuation.py\n",
    "This file contains functions to perform numerical continuation, specifically natural parameter continuation and pseudo-arclength continuation. These allow us to see the change in behaviour of a system as a parameter changes, with *pseudo_arclength* also incorporating the pseudo-arclength equation into the problem. Both functions operate based on a predicted value, calculated from the two previous soluions. First, they are both used to solve the algebraic cubic equation $x^3 - x + c = 0$ as parameter $c$ varies between [-2, 2]. For this problem, a discretisation is not needed, and scipy.optimize.fsolve is used as the solver. Figure X shows that *natural_continuation* fails at the fold bifurcation point as the search line fails to intersect the solution, whereas *pseudo_arclength* is able to continue capturing the behaviour past this point.\n",
    "\n",
    "<center><img src=\"Report Figs/sec1-3_cubic.png\" alt=\"5\" class=\"bg-primary mb-1\" width=\"400px\"></center>\n",
    "\n",
    "The next problem does require discretisation, which is the *shooting_problem* function within *numerical_shooting.py*. The functions are both used to solve the Hopf bifurcation normal form equations, which take the form:\n",
    "\n",
    "$\\dot{x} = \\beta x - y - x(x^2 + y^2)$\n",
    "\n",
    "$\\dot{y} = x + \\beta y - y(x^2 + y^2)$\n",
    "\n",
    "Parameter $\\beta$ varies between [0, 2]. Figure X illustrates how *natural_continuation* has the same issue of failing at the fold bifurcation point, but this is now expected. This example shows how discretisation functions can be applied to both methods.\n",
    "\n",
    "\n",
    "\n",
    "#### 1.4 - pde_solver.py\n",
    "Text\n",
    "\n",
    "___\n",
    "### 2 - Section 2\n",
    "\n",
    "#### 2.1 - Sec 2.1\n",
    "\n",
    "___\n",
    "### 3 - Section 3\n",
    "\n",
    "#### 3.1 - Sec 3.1"
   ]
  }
 ],
 "metadata": {
  "kernelspec": {
   "display_name": "base",
   "language": "python",
   "name": "python3"
  },
  "language_info": {
   "codemirror_mode": {
    "name": "ipython",
    "version": 3
   },
   "file_extension": ".py",
   "mimetype": "text/x-python",
   "name": "python",
   "nbconvert_exporter": "python",
   "pygments_lexer": "ipython3",
   "version": "3.9.13"
  },
  "orig_nbformat": 4
 },
 "nbformat": 4,
 "nbformat_minor": 2
}
